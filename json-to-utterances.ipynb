{
 "cells": [
  {
   "cell_type": "code",
   "execution_count": 1,
   "metadata": {},
   "outputs": [],
   "source": [
    "import json\n",
    "import pandas as pd\n",
    "import requests"
   ]
  },
  {
   "cell_type": "markdown",
   "metadata": {},
   "source": [
    "### Load and join comments"
   ]
  },
  {
   "cell_type": "code",
   "execution_count": 2,
   "metadata": {},
   "outputs": [],
   "source": [
    "with open('comments.json') as f:\n",
    "    comments = json.load(f)"
   ]
  },
  {
   "cell_type": "code",
   "execution_count": 3,
   "metadata": {},
   "outputs": [],
   "source": [
    "df = pd.DataFrame.from_dict(comments['comments'])\n",
    "commenters = pd.DataFrame.from_dict(comments['commenters'])"
   ]
  },
  {
   "cell_type": "code",
   "execution_count": 4,
   "metadata": {},
   "outputs": [],
   "source": [
    "df = pd.merge(df, commenters, how='left')"
   ]
  },
  {
   "cell_type": "code",
   "execution_count": 5,
   "metadata": {},
   "outputs": [
    {
     "data": {
      "text/plain": [
       "Index(['commentHex', 'domain', 'url', 'commenterHex', 'markdown', 'html',\n",
       "       'parentHex', 'score', 'state', 'creationDate', 'direction', 'deleted',\n",
       "       'email', 'name', 'link', 'photo', 'provider', 'joinDate',\n",
       "       'isModerator'],\n",
       "      dtype='object')"
      ]
     },
     "execution_count": 5,
     "metadata": {},
     "output_type": "execute_result"
    }
   ],
   "source": [
    "df.columns"
   ]
  },
  {
   "cell_type": "code",
   "execution_count": 6,
   "metadata": {},
   "outputs": [],
   "source": [
    "df = df[['url', 'markdown', 'creationDate', 'name']]"
   ]
  },
  {
   "cell_type": "markdown",
   "metadata": {},
   "source": [
    "### Clean comments"
   ]
  },
  {
   "cell_type": "code",
   "execution_count": 7,
   "metadata": {},
   "outputs": [],
   "source": [
    "df.drop_duplicates(subset=['name', 'creationDate'], inplace=True)\n",
    "df.sort_values(by='creationDate', ascending=True)\n",
    "df.reset_index(inplace=True, drop=True)"
   ]
  },
  {
   "cell_type": "code",
   "execution_count": 8,
   "metadata": {},
   "outputs": [],
   "source": [
    "df['url'] = df['url'].apply(lambda x: x[:-1] + x[-1].replace('/', ''))"
   ]
  },
  {
   "cell_type": "code",
   "execution_count": 9,
   "metadata": {},
   "outputs": [],
   "source": [
    "df['url'] = df['url'].apply(lambda x: x.split('/')[-1])"
   ]
  },
  {
   "cell_type": "code",
   "execution_count": 10,
   "metadata": {},
   "outputs": [],
   "source": [
    "df['url'] = 'https://eugeneyan.com/writing/' + df['url'] + '/'"
   ]
  },
  {
   "cell_type": "code",
   "execution_count": 13,
   "metadata": {},
   "outputs": [],
   "source": [
    "df['name'].fillna('Anonymous', inplace=True)"
   ]
  },
  {
   "cell_type": "code",
   "execution_count": 14,
   "metadata": {},
   "outputs": [],
   "source": [
    "df = df[df['markdown'] != '[deleted]'].copy()"
   ]
  },
  {
   "cell_type": "code",
   "execution_count": 15,
   "metadata": {},
   "outputs": [],
   "source": [
    "df['creationDate'] = df['creationDate'].apply(lambda x: x.split('.')[0])"
   ]
  },
  {
   "cell_type": "code",
   "execution_count": 16,
   "metadata": {},
   "outputs": [],
   "source": [
    "def format_date(creationDate):\n",
    "    if creationDate[-1] == 'Z':\n",
    "        return creationDate\n",
    "    else:\n",
    "        return creationDate + 'Z'"
   ]
  },
  {
   "cell_type": "code",
   "execution_count": 17,
   "metadata": {},
   "outputs": [],
   "source": [
    "df['creationDate'] = df['creationDate'].apply(format_date)"
   ]
  },
  {
   "cell_type": "code",
   "execution_count": 18,
   "metadata": {},
   "outputs": [],
   "source": [
    "df.sort_values(by='creationDate', inplace=True)"
   ]
  },
  {
   "cell_type": "code",
   "execution_count": 19,
   "metadata": {},
   "outputs": [],
   "source": [
    "df['updated_markdown'] = df['markdown'] + '\\n \\nComment by **' + df['name'] + '** on ' + df['creationDate']"
   ]
  },
  {
   "cell_type": "code",
   "execution_count": 20,
   "metadata": {},
   "outputs": [
    {
     "data": {
      "text/plain": [
       "https://eugeneyan.com/writing/note-taking-zettelkasten/                                      12\n",
       "https://eugeneyan.com/writing/psych-grad-to-data-science-lead/                                8\n",
       "https://eugeneyan.com/writing/end-to-end-data-science/                                        7\n",
       "https://eugeneyan.com/writing/what-i-love-about-scrum-for-data-science/                       7\n",
       "https://eugeneyan.com/writing/thoughts-on-cs7646-machine-learning-for-trading/                4\n",
       "https://eugeneyan.com/writing/setting-up-python-project-for-automation-and-collaboration/     4\n",
       "https://eugeneyan.com/writing/recommender-systems-baseline-pytorch/                           4\n",
       "https://eugeneyan.com/writing/data-science-and-agile-what-works-and-what-doesnt/              4\n",
       "https://eugeneyan.com/writing/what-i-do-during-a-data-science-project-to-ensure-success/      3\n",
       "https://eugeneyan.com/writing/how-to-set-up-html-app-with-fastapi-jinja-forms-templates/      3\n",
       "https://eugeneyan.com/writing/why-you-need-to-follow-up-after-your-data-science-project/      3\n",
       "https://eugeneyan.com/writing/reading-note-taking-writing/                                    2\n",
       "https://eugeneyan.com/writing/recommender-systems-graph-and-nlp-pytorch/                      2\n",
       "https://eugeneyan.com/writing/practical-guide-to-maintaining-machine-learning/                2\n",
       "https://eugeneyan.com/writing/thoughts-on-cs6440-intro-to-health-informatics/                 2\n",
       "https://eugeneyan.com/writing/thoughts-on-cs6601-artificial-intelligence/                     2\n",
       "https://eugeneyan.com/writing/first-post/                                                     2\n",
       "https://eugeneyan.com/writing/beginners-mind/                                                 1\n",
       "https://eugeneyan.com/writing/what-i-do-before-a-data-science-project-to-ensure-success/      1\n",
       "https://eugeneyan.com/writing/experimentation-workflow-with-jupyter-papermill-mlflow/         1\n",
       "https://eugeneyan.com/writing/product-categorization-api-part-3-creating-an-api/              1\n",
       "Name: url, dtype: int64"
      ]
     },
     "execution_count": 20,
     "metadata": {},
     "output_type": "execute_result"
    }
   ],
   "source": [
    "df['url'].value_counts()"
   ]
  },
  {
   "cell_type": "code",
   "execution_count": 21,
   "metadata": {},
   "outputs": [
    {
     "data": {
      "text/html": [
       "<div>\n",
       "<style scoped>\n",
       "    .dataframe tbody tr th:only-of-type {\n",
       "        vertical-align: middle;\n",
       "    }\n",
       "\n",
       "    .dataframe tbody tr th {\n",
       "        vertical-align: top;\n",
       "    }\n",
       "\n",
       "    .dataframe thead th {\n",
       "        text-align: right;\n",
       "    }\n",
       "</style>\n",
       "<table border=\"1\" class=\"dataframe\">\n",
       "  <thead>\n",
       "    <tr style=\"text-align: right;\">\n",
       "      <th></th>\n",
       "      <th>url</th>\n",
       "      <th>markdown</th>\n",
       "      <th>creationDate</th>\n",
       "      <th>name</th>\n",
       "      <th>updated_markdown</th>\n",
       "    </tr>\n",
       "  </thead>\n",
       "  <tbody>\n",
       "    <tr>\n",
       "      <th>66</th>\n",
       "      <td>https://eugeneyan.com/writing/how-to-set-up-ht...</td>\n",
       "      <td>Hi Eugene, thanks a lot for this informative a...</td>\n",
       "      <td>2020-07-27T14:12:54Z</td>\n",
       "      <td>Dominik Haitz</td>\n",
       "      <td>Hi Eugene, thanks a lot for this informative a...</td>\n",
       "    </tr>\n",
       "    <tr>\n",
       "      <th>64</th>\n",
       "      <td>https://eugeneyan.com/writing/how-to-set-up-ht...</td>\n",
       "      <td>Hey Dominik, thanks for sharing the comparison...</td>\n",
       "      <td>2020-07-27T14:50:42Z</td>\n",
       "      <td>Eugene Yan</td>\n",
       "      <td>Hey Dominik, thanks for sharing the comparison...</td>\n",
       "    </tr>\n",
       "    <tr>\n",
       "      <th>68</th>\n",
       "      <td>https://eugeneyan.com/writing/how-to-set-up-ht...</td>\n",
       "      <td>great, thanks for your answer! :-)</td>\n",
       "      <td>2020-07-28T12:03:34Z</td>\n",
       "      <td>Dominik Haitz</td>\n",
       "      <td>great, thanks for your answer! :-)\\n \\nComment...</td>\n",
       "    </tr>\n",
       "  </tbody>\n",
       "</table>\n",
       "</div>"
      ],
      "text/plain": [
       "                                                  url  \\\n",
       "66  https://eugeneyan.com/writing/how-to-set-up-ht...   \n",
       "64  https://eugeneyan.com/writing/how-to-set-up-ht...   \n",
       "68  https://eugeneyan.com/writing/how-to-set-up-ht...   \n",
       "\n",
       "                                             markdown          creationDate  \\\n",
       "66  Hi Eugene, thanks a lot for this informative a...  2020-07-27T14:12:54Z   \n",
       "64  Hey Dominik, thanks for sharing the comparison...  2020-07-27T14:50:42Z   \n",
       "68                 great, thanks for your answer! :-)  2020-07-28T12:03:34Z   \n",
       "\n",
       "             name                                   updated_markdown  \n",
       "66  Dominik Haitz  Hi Eugene, thanks a lot for this informative a...  \n",
       "64     Eugene Yan  Hey Dominik, thanks for sharing the comparison...  \n",
       "68  Dominik Haitz  great, thanks for your answer! :-)\\n \\nComment...  "
      ]
     },
     "execution_count": 21,
     "metadata": {},
     "output_type": "execute_result"
    }
   ],
   "source": [
    "df[df['url'] == 'https://eugeneyan.com/writing/how-to-set-up-html-app-with-fastapi-jinja-forms-templates/']"
   ]
  },
  {
   "cell_type": "markdown",
   "metadata": {},
   "source": [
    "### Create issues"
   ]
  },
  {
   "cell_type": "code",
   "execution_count": 22,
   "metadata": {},
   "outputs": [],
   "source": [
    "REPO_OWNER = ''\n",
    "REPO_NAME = ''\n",
    "TOKEN = ''"
   ]
  },
  {
   "cell_type": "code",
   "execution_count": 23,
   "metadata": {},
   "outputs": [],
   "source": [
    "# Expected payload\n",
    "# {\n",
    "#   \"issue\": {\n",
    "#     \"title\": \"Imported from some other system\",\n",
    "#     \"body\": \"...\"\n",
    "#   },\n",
    "#   \"comments\": [\n",
    "#     {\n",
    "#       \"body\": \"talk talk\"\n",
    "#     }\n",
    "#   ]\n",
    "# }"
   ]
  },
  {
   "cell_type": "code",
   "execution_count": 24,
   "metadata": {},
   "outputs": [
    {
     "data": {
      "text/plain": [
       "['https://eugeneyan.com/writing/note-taking-zettelkasten/',\n",
       " 'https://eugeneyan.com/writing/psych-grad-to-data-science-lead/',\n",
       " 'https://eugeneyan.com/writing/end-to-end-data-science/',\n",
       " 'https://eugeneyan.com/writing/what-i-love-about-scrum-for-data-science/',\n",
       " 'https://eugeneyan.com/writing/thoughts-on-cs7646-machine-learning-for-trading/',\n",
       " 'https://eugeneyan.com/writing/setting-up-python-project-for-automation-and-collaboration/',\n",
       " 'https://eugeneyan.com/writing/recommender-systems-baseline-pytorch/',\n",
       " 'https://eugeneyan.com/writing/data-science-and-agile-what-works-and-what-doesnt/',\n",
       " 'https://eugeneyan.com/writing/what-i-do-during-a-data-science-project-to-ensure-success/',\n",
       " 'https://eugeneyan.com/writing/how-to-set-up-html-app-with-fastapi-jinja-forms-templates/',\n",
       " 'https://eugeneyan.com/writing/why-you-need-to-follow-up-after-your-data-science-project/',\n",
       " 'https://eugeneyan.com/writing/reading-note-taking-writing/',\n",
       " 'https://eugeneyan.com/writing/recommender-systems-graph-and-nlp-pytorch/',\n",
       " 'https://eugeneyan.com/writing/practical-guide-to-maintaining-machine-learning/',\n",
       " 'https://eugeneyan.com/writing/thoughts-on-cs6440-intro-to-health-informatics/',\n",
       " 'https://eugeneyan.com/writing/thoughts-on-cs6601-artificial-intelligence/',\n",
       " 'https://eugeneyan.com/writing/first-post/',\n",
       " 'https://eugeneyan.com/writing/beginners-mind/',\n",
       " 'https://eugeneyan.com/writing/what-i-do-before-a-data-science-project-to-ensure-success/',\n",
       " 'https://eugeneyan.com/writing/experimentation-workflow-with-jupyter-papermill-mlflow/',\n",
       " 'https://eugeneyan.com/writing/product-categorization-api-part-3-creating-an-api/']"
      ]
     },
     "execution_count": 24,
     "metadata": {},
     "output_type": "execute_result"
    }
   ],
   "source": [
    "list(df['url'].value_counts().index)"
   ]
  },
  {
   "cell_type": "code",
   "execution_count": 25,
   "metadata": {},
   "outputs": [],
   "source": [
    "urls = list(df['url'].value_counts().index)"
   ]
  },
  {
   "cell_type": "code",
   "execution_count": 26,
   "metadata": {},
   "outputs": [
    {
     "name": "stdout",
     "output_type": "stream",
     "text": [
      "Successfully created Issue \"https://eugeneyan.com/writing/note-taking-zettelkasten/\"\n",
      "Successfully created Issue \"https://eugeneyan.com/writing/psych-grad-to-data-science-lead/\"\n",
      "Successfully created Issue \"https://eugeneyan.com/writing/end-to-end-data-science/\"\n",
      "Successfully created Issue \"https://eugeneyan.com/writing/what-i-love-about-scrum-for-data-science/\"\n",
      "Successfully created Issue \"https://eugeneyan.com/writing/thoughts-on-cs7646-machine-learning-for-trading/\"\n",
      "Successfully created Issue \"https://eugeneyan.com/writing/setting-up-python-project-for-automation-and-collaboration/\"\n",
      "Successfully created Issue \"https://eugeneyan.com/writing/recommender-systems-baseline-pytorch/\"\n",
      "Successfully created Issue \"https://eugeneyan.com/writing/data-science-and-agile-what-works-and-what-doesnt/\"\n",
      "Successfully created Issue \"https://eugeneyan.com/writing/what-i-do-during-a-data-science-project-to-ensure-success/\"\n",
      "Successfully created Issue \"https://eugeneyan.com/writing/how-to-set-up-html-app-with-fastapi-jinja-forms-templates/\"\n",
      "Successfully created Issue \"https://eugeneyan.com/writing/why-you-need-to-follow-up-after-your-data-science-project/\"\n",
      "Successfully created Issue \"https://eugeneyan.com/writing/reading-note-taking-writing/\"\n",
      "Successfully created Issue \"https://eugeneyan.com/writing/recommender-systems-graph-and-nlp-pytorch/\"\n",
      "Successfully created Issue \"https://eugeneyan.com/writing/practical-guide-to-maintaining-machine-learning/\"\n",
      "Successfully created Issue \"https://eugeneyan.com/writing/thoughts-on-cs6440-intro-to-health-informatics/\"\n",
      "Successfully created Issue \"https://eugeneyan.com/writing/thoughts-on-cs6601-artificial-intelligence/\"\n",
      "Successfully created Issue \"https://eugeneyan.com/writing/first-post/\"\n",
      "Successfully created Issue \"https://eugeneyan.com/writing/beginners-mind/\"\n",
      "Successfully created Issue \"https://eugeneyan.com/writing/what-i-do-before-a-data-science-project-to-ensure-success/\"\n",
      "Successfully created Issue \"https://eugeneyan.com/writing/experimentation-workflow-with-jupyter-papermill-mlflow/\"\n",
      "Successfully created Issue \"https://eugeneyan.com/writing/product-categorization-api-part-3-creating-an-api/\"\n"
     ]
    }
   ],
   "source": [
    "github_url = 'https://api.github.com/repos/%s/%s/import/issues' % (REPO_OWNER, REPO_NAME)\n",
    "    \n",
    "# Headers\n",
    "headers = {\n",
    "    \"Authorization\": \"token %s\" % TOKEN,\n",
    "    \"Accept\": \"application/vnd.github.golden-comet-preview+json\"\n",
    "}\n",
    "\n",
    "for url in urls:\n",
    "    comment_list = []\n",
    "    created_at = '2010-01-02'\n",
    "    for _, row in df[df['url'] == url].iterrows():\n",
    "        comment_list.append({'body': row['updated_markdown'], 'created_at': row['creationDate']})\n",
    "        if row['creationDate'] > created_at:\n",
    "            created_at = row['creationDate']\n",
    "        \n",
    "    payload = {'issue': {'title': url,\n",
    "                          'body': 'Migrated from json into utteranc.es',\n",
    "                          'created_at': created_at},\n",
    "               'comments': comment_list}\n",
    "    \n",
    "    payload = json.dumps(payload)\n",
    "\n",
    "    # Add the issue to our repository\n",
    "    response = requests.request(\"POST\", github_url, data=payload, headers=headers)\n",
    "    if response.status_code == 202:\n",
    "        print('Successfully created Issue \"%s\"' % url)\n",
    "    else:\n",
    "        print('Could not create Issue \"%s\"' % url)\n",
    "        print('Response:', response.content)"
   ]
  }
 ],
 "metadata": {
  "kernelspec": {
   "display_name": "Python 3",
   "language": "python",
   "name": "python3"
  },
  "language_info": {
   "codemirror_mode": {
    "name": "ipython",
    "version": 3
   },
   "file_extension": ".py",
   "mimetype": "text/x-python",
   "name": "python",
   "nbconvert_exporter": "python",
   "pygments_lexer": "ipython3",
   "version": "3.7.3"
  }
 },
 "nbformat": 4,
 "nbformat_minor": 4
}
